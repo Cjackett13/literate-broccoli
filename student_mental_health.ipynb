{
  "cells": [
    {
      "cell_type": "markdown",
      "metadata": {
        "id": "view-in-github",
        "colab_type": "text"
      },
      "source": [
        "<a href=\"https://colab.research.google.com/github/Cjackett13/literate-broccoli/blob/main/student_mental_health.ipynb\" target=\"_parent\"><img src=\"https://colab.research.google.com/assets/colab-badge.svg\" alt=\"Open In Colab\"/></a>"
      ]
    },
    {
      "cell_type": "code",
      "execution_count": null,
      "id": "4cee7e27-1515-40f4-9b27-43e54bd0e801",
      "metadata": {
        "id": "4cee7e27-1515-40f4-9b27-43e54bd0e801"
      },
      "outputs": [],
      "source": [
        "!pip3 install pandas scikit-learn matplotlib seaborn"
      ]
    },
    {
      "cell_type": "code",
      "execution_count": null,
      "id": "cb8b07a6-3de5-4217-861d-d62ff89e257b",
      "metadata": {
        "id": "cb8b07a6-3de5-4217-861d-d62ff89e257b"
      },
      "outputs": [],
      "source": [
        "import pandas as pd\n",
        "from sklearn.model_selection import train_test_split\n",
        "from sklearn.feature_extraction.text import TfidfVectorizer\n",
        "from sklearn.linear_model import LogisticRegression\n",
        "from sklearn.metrics import classification_report\n",
        "import joblib\n",
        "import pickle"
      ]
    },
    {
      "cell_type": "code",
      "execution_count": null,
      "id": "60df2451-9cdd-490e-b953-321fee379095",
      "metadata": {
        "id": "60df2451-9cdd-490e-b953-321fee379095"
      },
      "outputs": [],
      "source": [
        "entries_df = pd.read_csv(\"10000_synthetic_mental_health_journal.csv\")\n",
        "traits_df = pd.read_csv(\"10000_user_traits.csv\")"
      ]
    },
    {
      "cell_type": "code",
      "execution_count": null,
      "id": "fd63fb9d-7b0e-4c00-921f-3457cf4ea47e",
      "metadata": {
        "id": "fd63fb9d-7b0e-4c00-921f-3457cf4ea47e"
      },
      "outputs": [],
      "source": [
        "merged_df = pd.merge(entries_df, traits_df, on=\"user_id\")"
      ]
    },
    {
      "cell_type": "code",
      "execution_count": null,
      "id": "14a6ea72-cb88-48d4-a677-4b6f947c45e0",
      "metadata": {
        "id": "14a6ea72-cb88-48d4-a677-4b6f947c45e0"
      },
      "outputs": [],
      "source": [
        "X = merged_df[\"journal_entry\"]\n",
        "y = merged_df[\"mood\"]"
      ]
    },
    {
      "cell_type": "code",
      "execution_count": null,
      "id": "17ee6cd3-89d5-43e2-8ad8-cfb26d37f295",
      "metadata": {
        "id": "17ee6cd3-89d5-43e2-8ad8-cfb26d37f295"
      },
      "outputs": [],
      "source": [
        "X_train, X_test, y_train, y_test = train_test_split(X, y, test_size=0.2, random_state=42)"
      ]
    },
    {
      "cell_type": "code",
      "execution_count": null,
      "id": "a14ea8ec-349f-4bfe-b478-c40a9e8e0cff",
      "metadata": {
        "id": "a14ea8ec-349f-4bfe-b478-c40a9e8e0cff"
      },
      "outputs": [],
      "source": [
        "vectorizer = TfidfVectorizer(stop_words=\"english\")\n",
        "X_train_vec = vectorizer.fit_transform(X_train)\n",
        "X_test_vec = vectorizer.transform(X_test)"
      ]
    },
    {
      "cell_type": "code",
      "execution_count": null,
      "id": "dfac95e9-4fad-41b8-9668-4389945d2b35",
      "metadata": {
        "id": "dfac95e9-4fad-41b8-9668-4389945d2b35"
      },
      "outputs": [],
      "source": [
        "model = LogisticRegression()\n",
        "model.fit(X_train_vec, y_train)"
      ]
    },
    {
      "cell_type": "code",
      "execution_count": null,
      "id": "05ddaac8-54bc-4a31-9192-32295a98944b",
      "metadata": {
        "id": "05ddaac8-54bc-4a31-9192-32295a98944b"
      },
      "outputs": [],
      "source": [
        "y_pred = model.predict(X_test_vec)\n",
        "print(classification_report(y_test, y_pred))"
      ]
    },
    {
      "cell_type": "code",
      "execution_count": null,
      "id": "68c0b50a-f274-49d3-a0c2-3e7dc950a98e",
      "metadata": {
        "id": "68c0b50a-f274-49d3-a0c2-3e7dc950a98e"
      },
      "outputs": [],
      "source": [
        "with open(\"journal_emotion_model.pkl\", \"wb\") as f:\n",
        "    pickle.dump(model, f)\n",
        "with open(\"tfidf_vectorizer.pkl\", \"wb\") as f:\n",
        "    pickle.dump(vectorizer, f)"
      ]
    },
    {
      "cell_type": "code",
      "execution_count": null,
      "id": "3ca6e474-d915-4f7a-9dda-269f977968f0",
      "metadata": {
        "id": "3ca6e474-d915-4f7a-9dda-269f977968f0"
      },
      "outputs": [],
      "source": [
        "entries_df.head()"
      ]
    },
    {
      "cell_type": "code",
      "execution_count": null,
      "id": "342dff03-9950-421a-a819-59b2679eb837",
      "metadata": {
        "id": "342dff03-9950-421a-a819-59b2679eb837"
      },
      "outputs": [],
      "source": [
        "import os\n",
        "print(os.path.getsize(\"journal_emotion_model.pkl\"))\n",
        "print(os.path.getsize(\"tfidf_vectorizer.pkl\"))"
      ]
    },
    {
      "cell_type": "code",
      "execution_count": null,
      "id": "7824ec0c-c5d8-46bb-b117-a9ddcbd7eba7",
      "metadata": {
        "id": "7824ec0c-c5d8-46bb-b117-a9ddcbd7eba7"
      },
      "outputs": [],
      "source": [
        "import os\n",
        "os.getcwd()"
      ]
    },
    {
      "cell_type": "code",
      "execution_count": null,
      "id": "30edc397-8822-49ff-b7e6-fc4fd4377376",
      "metadata": {
        "id": "30edc397-8822-49ff-b7e6-fc4fd4377376"
      },
      "outputs": [],
      "source": [
        "import os\n",
        "os.listdir()"
      ]
    },
    {
      "cell_type": "code",
      "execution_count": null,
      "id": "2a919c43-3054-4c82-b869-7a7117f55f4d",
      "metadata": {
        "id": "2a919c43-3054-4c82-b869-7a7117f55f4d"
      },
      "outputs": [],
      "source": [
        "with open(\"journal_emotion_model.pkl\", \"wb\") as f:\n",
        "    pickle.dump(model, f)\n",
        "\n",
        "with open(\"tfidf_vectorizer.pkl\", \"wb\") as f:\n",
        "    pickle.dump(vectorizer, f)"
      ]
    },
    {
      "cell_type": "markdown",
      "source": [
        "## 🤖 AI Journaling Assistant Integration\n",
        "\n",
        "Below is a simplified version of the journaling assistant built by Preethika (AI Engineer).\n",
        "It uses GPT to generate empathetic and encouraging responses based on student journal entries,\n",
        "which can be easily tied into our UI/UX flow.\n",
        "\n",
        "*To run this, the user will need to input their OpenAI API key securely.*\n"
      ],
      "metadata": {
        "id": "XD0uLKUVlnSm"
      },
      "id": "XD0uLKUVlnSm"
    },
    {
      "cell_type": "code",
      "source": [
        "!pip install --upgrade openai"
      ],
      "metadata": {
        "id": "4arNWppJn7d_",
        "outputId": "cc394024-4815-43a0-9218-b87a0e74dc88",
        "colab": {
          "base_uri": "https://localhost:8080/"
        }
      },
      "id": "4arNWppJn7d_",
      "execution_count": 1,
      "outputs": [
        {
          "output_type": "stream",
          "name": "stdout",
          "text": [
            "Requirement already satisfied: openai in /usr/local/lib/python3.11/dist-packages (1.99.1)\n",
            "Requirement already satisfied: anyio<5,>=3.5.0 in /usr/local/lib/python3.11/dist-packages (from openai) (4.9.0)\n",
            "Requirement already satisfied: distro<2,>=1.7.0 in /usr/local/lib/python3.11/dist-packages (from openai) (1.9.0)\n",
            "Requirement already satisfied: httpx<1,>=0.23.0 in /usr/local/lib/python3.11/dist-packages (from openai) (0.28.1)\n",
            "Requirement already satisfied: jiter<1,>=0.4.0 in /usr/local/lib/python3.11/dist-packages (from openai) (0.10.0)\n",
            "Requirement already satisfied: pydantic<3,>=1.9.0 in /usr/local/lib/python3.11/dist-packages (from openai) (2.11.7)\n",
            "Requirement already satisfied: sniffio in /usr/local/lib/python3.11/dist-packages (from openai) (1.3.1)\n",
            "Requirement already satisfied: tqdm>4 in /usr/local/lib/python3.11/dist-packages (from openai) (4.67.1)\n",
            "Requirement already satisfied: typing-extensions<5,>=4.11 in /usr/local/lib/python3.11/dist-packages (from openai) (4.14.1)\n",
            "Requirement already satisfied: idna>=2.8 in /usr/local/lib/python3.11/dist-packages (from anyio<5,>=3.5.0->openai) (3.10)\n",
            "Requirement already satisfied: certifi in /usr/local/lib/python3.11/dist-packages (from httpx<1,>=0.23.0->openai) (2025.7.14)\n",
            "Requirement already satisfied: httpcore==1.* in /usr/local/lib/python3.11/dist-packages (from httpx<1,>=0.23.0->openai) (1.0.9)\n",
            "Requirement already satisfied: h11>=0.16 in /usr/local/lib/python3.11/dist-packages (from httpcore==1.*->httpx<1,>=0.23.0->openai) (0.16.0)\n",
            "Requirement already satisfied: annotated-types>=0.6.0 in /usr/local/lib/python3.11/dist-packages (from pydantic<3,>=1.9.0->openai) (0.7.0)\n",
            "Requirement already satisfied: pydantic-core==2.33.2 in /usr/local/lib/python3.11/dist-packages (from pydantic<3,>=1.9.0->openai) (2.33.2)\n",
            "Requirement already satisfied: typing-inspection>=0.4.0 in /usr/local/lib/python3.11/dist-packages (from pydantic<3,>=1.9.0->openai) (0.4.1)\n"
          ]
        }
      ]
    },
    {
      "cell_type": "code",
      "source": [
        "import openai\n",
        "import getpass\n",
        "\n",
        "# Get API key securely (you won't expose it)\n",
        "api_key = getpass.getpass(\"🔑 Enter your OpenAI API key: \")\n",
        "\n",
        "client = openai.OpenAI(api_key=api_key)\n",
        "\n",
        "def ai_journaling_assistant(entry):\n",
        "    prompt = f\"\"\"\n",
        "    You are a supportive journaling assistant. A student writes:\n",
        "\n",
        "    \\\"{entry}\\\"\n",
        "\n",
        "    Respond empathetically, offer validation, and include a wellness suggestion.\n",
        "    \"\"\"\n",
        "\n",
        "    response = client.chat.completions.create(\n",
        "        model=\"gpt-3.5-turbo\",\n",
        "        messages=[{\"role\": \"user\", \"content\": prompt}],\n",
        "        temperature=0.7\n",
        "    )\n",
        "\n",
        "    return response.choices[0].message.content\n",
        "\n",
        "# Example usage\n",
        "entry = \"I feel anxious about deadlines and can’t seem to focus.\"\n",
        "print(\"💬 Assistant Response:\\n\", ai_journaling_assistant(entry))\n"
      ],
      "metadata": {
        "id": "I_wue75Plvbr",
        "outputId": "06ff83bb-28cf-4b7c-8ae3-7c6779fdf018",
        "colab": {
          "base_uri": "https://localhost:8080/"
        }
      },
      "id": "I_wue75Plvbr",
      "execution_count": 2,
      "outputs": [
        {
          "output_type": "stream",
          "name": "stdout",
          "text": [
            "🔑 Enter your OpenAI API key: ··········\n",
            "💬 Assistant Response:\n",
            " I'm sorry to hear that you're feeling anxious about deadlines and struggling to focus. It's completely normal to feel overwhelmed by deadlines, especially when there's a lot on your plate. Remember that it's okay to feel this way and that it's important to take care of yourself during stressful times.\n",
            "\n",
            "One suggestion for managing your anxiety and improving your focus is to try implementing some mindfulness techniques into your routine. Taking a few minutes each day to practice deep breathing, meditation, or even just going for a walk outside can help clear your mind and reduce stress. Remember to take breaks when you need them and prioritize self-care to help you stay focused and calm during this challenging time. You've got this!\n"
          ]
        }
      ]
    }
  ],
  "metadata": {
    "kernelspec": {
      "display_name": "Python 3 (ipykernel)",
      "language": "python",
      "name": "python3"
    },
    "language_info": {
      "codemirror_mode": {
        "name": "ipython",
        "version": 3
      },
      "file_extension": ".py",
      "mimetype": "text/x-python",
      "name": "python",
      "nbconvert_exporter": "python",
      "pygments_lexer": "ipython3",
      "version": "3.13.2"
    },
    "colab": {
      "provenance": [],
      "include_colab_link": true
    }
  },
  "nbformat": 4,
  "nbformat_minor": 5
}