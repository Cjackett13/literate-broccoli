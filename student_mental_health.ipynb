{
  "cells": [
    {
      "cell_type": "markdown",
      "metadata": {
        "id": "view-in-github",
        "colab_type": "text"
      },
      "source": [
        "<a href=\"https://colab.research.google.com/github/Cjackett13/literate-broccoli/blob/main/student_mental_health.ipynb\" target=\"_parent\"><img src=\"https://colab.research.google.com/assets/colab-badge.svg\" alt=\"Open In Colab\"/></a>"
      ]
    },
    {
      "cell_type": "code",
      "execution_count": null,
      "id": "4cee7e27-1515-40f4-9b27-43e54bd0e801",
      "metadata": {
        "colab": {
          "base_uri": "https://localhost:8080/"
        },
        "id": "4cee7e27-1515-40f4-9b27-43e54bd0e801",
        "outputId": "245da056-dab5-4f37-db1d-c02b89901f3e"
      },
      "outputs": [
        {
          "output_type": "stream",
          "name": "stdout",
          "text": [
            "Requirement already satisfied: pandas in /usr/local/lib/python3.11/dist-packages (2.2.2)\n",
            "Requirement already satisfied: scikit-learn in /usr/local/lib/python3.11/dist-packages (1.6.1)\n",
            "Requirement already satisfied: matplotlib in /usr/local/lib/python3.11/dist-packages (3.10.0)\n",
            "Requirement already satisfied: seaborn in /usr/local/lib/python3.11/dist-packages (0.13.2)\n",
            "Requirement already satisfied: numpy>=1.23.2 in /usr/local/lib/python3.11/dist-packages (from pandas) (2.0.2)\n",
            "Requirement already satisfied: python-dateutil>=2.8.2 in /usr/local/lib/python3.11/dist-packages (from pandas) (2.9.0.post0)\n",
            "Requirement already satisfied: pytz>=2020.1 in /usr/local/lib/python3.11/dist-packages (from pandas) (2025.2)\n",
            "Requirement already satisfied: tzdata>=2022.7 in /usr/local/lib/python3.11/dist-packages (from pandas) (2025.2)\n",
            "Requirement already satisfied: scipy>=1.6.0 in /usr/local/lib/python3.11/dist-packages (from scikit-learn) (1.16.0)\n",
            "Requirement already satisfied: joblib>=1.2.0 in /usr/local/lib/python3.11/dist-packages (from scikit-learn) (1.5.1)\n",
            "Requirement already satisfied: threadpoolctl>=3.1.0 in /usr/local/lib/python3.11/dist-packages (from scikit-learn) (3.6.0)\n",
            "Requirement already satisfied: contourpy>=1.0.1 in /usr/local/lib/python3.11/dist-packages (from matplotlib) (1.3.2)\n",
            "Requirement already satisfied: cycler>=0.10 in /usr/local/lib/python3.11/dist-packages (from matplotlib) (0.12.1)\n",
            "Requirement already satisfied: fonttools>=4.22.0 in /usr/local/lib/python3.11/dist-packages (from matplotlib) (4.59.0)\n",
            "Requirement already satisfied: kiwisolver>=1.3.1 in /usr/local/lib/python3.11/dist-packages (from matplotlib) (1.4.8)\n",
            "Requirement already satisfied: packaging>=20.0 in /usr/local/lib/python3.11/dist-packages (from matplotlib) (25.0)\n",
            "Requirement already satisfied: pillow>=8 in /usr/local/lib/python3.11/dist-packages (from matplotlib) (11.3.0)\n",
            "Requirement already satisfied: pyparsing>=2.3.1 in /usr/local/lib/python3.11/dist-packages (from matplotlib) (3.2.3)\n",
            "Requirement already satisfied: six>=1.5 in /usr/local/lib/python3.11/dist-packages (from python-dateutil>=2.8.2->pandas) (1.17.0)\n"
          ]
        }
      ],
      "source": [
        "!pip3 install pandas scikit-learn matplotlib seaborn"
      ]
    },
    {
      "cell_type": "code",
      "execution_count": null,
      "id": "cb8b07a6-3de5-4217-861d-d62ff89e257b",
      "metadata": {
        "id": "cb8b07a6-3de5-4217-861d-d62ff89e257b"
      },
      "outputs": [],
      "source": [
        "import pandas as pd\n",
        "from sklearn.model_selection import train_test_split\n",
        "from sklearn.feature_extraction.text import TfidfVectorizer\n",
        "from sklearn.linear_model import LogisticRegression\n",
        "from sklearn.metrics import classification_report\n",
        "import joblib\n",
        "import pickle"
      ]
    },
    {
      "cell_type": "code",
      "execution_count": null,
      "id": "60df2451-9cdd-490e-b953-321fee379095",
      "metadata": {
        "id": "60df2451-9cdd-490e-b953-321fee379095"
      },
      "outputs": [],
      "source": [
        "entries_df = pd.read_csv(\"10000_synthetic_mental_health_journal.csv\")\n",
        "traits_df = pd.read_csv(\"10000_user_traits.csv\")"
      ]
    },
    {
      "cell_type": "code",
      "execution_count": null,
      "id": "fd63fb9d-7b0e-4c00-921f-3457cf4ea47e",
      "metadata": {
        "id": "fd63fb9d-7b0e-4c00-921f-3457cf4ea47e"
      },
      "outputs": [],
      "source": [
        "merged_df = pd.merge(entries_df, traits_df, on=\"user_id\")"
      ]
    },
    {
      "cell_type": "code",
      "execution_count": null,
      "id": "14a6ea72-cb88-48d4-a677-4b6f947c45e0",
      "metadata": {
        "id": "14a6ea72-cb88-48d4-a677-4b6f947c45e0"
      },
      "outputs": [],
      "source": [
        "X = merged_df[\"journal_entry\"]\n",
        "y = merged_df[\"mood\"]"
      ]
    },
    {
      "cell_type": "code",
      "execution_count": null,
      "id": "17ee6cd3-89d5-43e2-8ad8-cfb26d37f295",
      "metadata": {
        "id": "17ee6cd3-89d5-43e2-8ad8-cfb26d37f295"
      },
      "outputs": [],
      "source": [
        "X_train, X_test, y_train, y_test = train_test_split(X, y, test_size=0.2, random_state=42)"
      ]
    },
    {
      "cell_type": "code",
      "execution_count": null,
      "id": "a14ea8ec-349f-4bfe-b478-c40a9e8e0cff",
      "metadata": {
        "id": "a14ea8ec-349f-4bfe-b478-c40a9e8e0cff"
      },
      "outputs": [],
      "source": [
        "vectorizer = TfidfVectorizer(stop_words=\"english\")\n",
        "X_train_vec = vectorizer.fit_transform(X_train)\n",
        "X_test_vec = vectorizer.transform(X_test)"
      ]
    },
    {
      "cell_type": "code",
      "execution_count": null,
      "id": "dfac95e9-4fad-41b8-9668-4389945d2b35",
      "metadata": {
        "id": "dfac95e9-4fad-41b8-9668-4389945d2b35"
      },
      "outputs": [],
      "source": [
        "model = LogisticRegression()\n",
        "model.fit(X_train_vec, y_train)"
      ]
    },
    {
      "cell_type": "code",
      "execution_count": null,
      "id": "05ddaac8-54bc-4a31-9192-32295a98944b",
      "metadata": {
        "id": "05ddaac8-54bc-4a31-9192-32295a98944b"
      },
      "outputs": [],
      "source": [
        "y_pred = model.predict(X_test_vec)\n",
        "print(classification_report(y_test, y_pred))"
      ]
    },
    {
      "cell_type": "code",
      "execution_count": null,
      "id": "68c0b50a-f274-49d3-a0c2-3e7dc950a98e",
      "metadata": {
        "id": "68c0b50a-f274-49d3-a0c2-3e7dc950a98e"
      },
      "outputs": [],
      "source": [
        "with open(\"journal_emotion_model.pkl\", \"wb\") as f:\n",
        "    pickle.dump(model, f)\n",
        "with open(\"tfidf_vectorizer.pkl\", \"wb\") as f:\n",
        "    pickle.dump(vectorizer, f)"
      ]
    },
    {
      "cell_type": "code",
      "execution_count": null,
      "id": "3ca6e474-d915-4f7a-9dda-269f977968f0",
      "metadata": {
        "id": "3ca6e474-d915-4f7a-9dda-269f977968f0"
      },
      "outputs": [],
      "source": [
        "entries_df.head()"
      ]
    },
    {
      "cell_type": "code",
      "execution_count": null,
      "id": "342dff03-9950-421a-a819-59b2679eb837",
      "metadata": {
        "id": "342dff03-9950-421a-a819-59b2679eb837"
      },
      "outputs": [],
      "source": [
        "import os\n",
        "print(os.path.getsize(\"journal_emotion_model.pkl\"))\n",
        "print(os.path.getsize(\"tfidf_vectorizer.pkl\"))"
      ]
    },
    {
      "cell_type": "code",
      "execution_count": null,
      "id": "7824ec0c-c5d8-46bb-b117-a9ddcbd7eba7",
      "metadata": {
        "id": "7824ec0c-c5d8-46bb-b117-a9ddcbd7eba7"
      },
      "outputs": [],
      "source": [
        "import os\n",
        "os.getcwd()"
      ]
    },
    {
      "cell_type": "code",
      "execution_count": null,
      "id": "30edc397-8822-49ff-b7e6-fc4fd4377376",
      "metadata": {
        "id": "30edc397-8822-49ff-b7e6-fc4fd4377376"
      },
      "outputs": [],
      "source": [
        "import os\n",
        "os.listdir()"
      ]
    },
    {
      "cell_type": "code",
      "execution_count": null,
      "id": "2a919c43-3054-4c82-b869-7a7117f55f4d",
      "metadata": {
        "id": "2a919c43-3054-4c82-b869-7a7117f55f4d"
      },
      "outputs": [],
      "source": [
        "with open(\"journal_emotion_model.pkl\", \"wb\") as f:\n",
        "    pickle.dump(model, f)\n",
        "\n",
        "with open(\"tfidf_vectorizer.pkl\", \"wb\") as f:\n",
        "    pickle.dump(vectorizer, f)"
      ]
    },
    {
      "cell_type": "code",
      "execution_count": null,
      "id": "e0ba6098-acaa-4a8f-b61e-6eedd4d555a7",
      "metadata": {
        "id": "e0ba6098-acaa-4a8f-b61e-6eedd4d555a7"
      },
      "outputs": [],
      "source": []
    }
  ],
  "metadata": {
    "kernelspec": {
      "display_name": "Python 3 (ipykernel)",
      "language": "python",
      "name": "python3"
    },
    "language_info": {
      "codemirror_mode": {
        "name": "ipython",
        "version": 3
      },
      "file_extension": ".py",
      "mimetype": "text/x-python",
      "name": "python",
      "nbconvert_exporter": "python",
      "pygments_lexer": "ipython3",
      "version": "3.13.2"
    },
    "colab": {
      "provenance": [],
      "include_colab_link": true
    }
  },
  "nbformat": 4,
  "nbformat_minor": 5
}